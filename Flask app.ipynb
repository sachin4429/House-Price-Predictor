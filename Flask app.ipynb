{
  "cells": [
    {
      "cell_type": "code",
      "execution_count": null,
      "metadata": {
        "colab": {
          "base_uri": "https://localhost:8080/"
        },
        "id": "NLGNP_VVCa1R",
        "outputId": "e349731d-5609-4bd5-c042-411f0677de73"
      },
      "outputs": [
        {
          "output_type": "stream",
          "name": "stdout",
          "text": [
            "Looking in indexes: https://pypi.org/simple, https://us-python.pkg.dev/colab-wheels/public/simple/\n",
            "Requirement already satisfied: pyngrok in /usr/local/lib/python3.7/dist-packages (5.1.0)\n",
            "Requirement already satisfied: PyYAML in /usr/local/lib/python3.7/dist-packages (from pyngrok) (3.13)\n"
          ]
        }
      ],
      "source": [
        "!pip install pyngrok"
      ]
    },
    {
      "cell_type": "code",
      "execution_count": null,
      "metadata": {
        "id": "wlN2pAhtCx3r"
      },
      "outputs": [],
      "source": [
        "from flask import Flask\n",
        "from pyngrok import ngrok"
      ]
    },
    {
      "cell_type": "code",
      "execution_count": null,
      "metadata": {
        "id": "pB5AonKBC84h"
      },
      "outputs": [],
      "source": [
        "port_no = 5000"
      ]
    },
    {
      "cell_type": "code",
      "source": [
        "from flask import Flask,render_template,request\n",
        "import pandas as pd\n",
        "import numpy as np\n",
        "import pickle\n",
        "app = Flask(__name__,template_folder='/content')\n",
        "ngrok.set_auth_token(\"2AJH4iPom7hFn2SjmTxE5thiQED_22xrx54T4geoBzqLZdQ1t\")\n",
        "public_url =  ngrok.connect(port_no).public_url\n",
        "\n",
        "data = pd.read_csv('/content/Cleaned_data.csv')\n",
        "pipe = pickle.load(open(\"/content/RidgeModel.pkl\",'rb'))\n",
        "\n",
        "@app.route(\"/\")\n",
        "def home():\n",
        "    locations = sorted(data['location'].unique())\n",
        "    return render_template('index.html',locations=locations)\n",
        "\n",
        "@app.route('/predict',methods=['POST'])\n",
        "def predict():\n",
        "    location = request.form.get('location')\n",
        "    bhk = float(request.form.get('bhk'))\n",
        "    bath = float(request.form.get('bath'))\n",
        "    sqft = request.form.get('total_sqft')\n",
        "\n",
        "    print( location, bhk, bath ,sqft)\n",
        "    \n",
        "    input = pd.DataFrame([[location, sqft, bath, bhk]], columns = ['location', 'total_sqft', 'bath' ,'bhk'])\n",
        "    prediction = pipe.predict(input)[0] * 1e5\n",
        "    return str(np.round(prediction,2))\n",
        "\n",
        "print(f\"To acces the Gloable link please click {public_url}\")\n",
        "\n",
        "app.run(port=port_no)"
      ],
      "metadata": {
        "colab": {
          "base_uri": "https://localhost:8080/"
        },
        "id": "DDpaV9BR8rSl",
        "outputId": "a338e48d-d3b7-47ca-b443-7a9c560afd7c"
      },
      "execution_count": null,
      "outputs": [
        {
          "output_type": "stream",
          "name": "stdout",
          "text": [
            "To acces the Gloable link please click http://86e7-34-67-18-34.ngrok.io\n",
            " * Serving Flask app \"__main__\" (lazy loading)\n",
            " * Environment: production\n",
            "\u001b[31m   WARNING: This is a development server. Do not use it in a production deployment.\u001b[0m\n",
            "\u001b[2m   Use a production WSGI server instead.\u001b[0m\n",
            " * Debug mode: off\n"
          ]
        },
        {
          "output_type": "stream",
          "name": "stderr",
          "text": [
            " * Running on http://127.0.0.1:5000/ (Press CTRL+C to quit)\n",
            "127.0.0.1 - - [23/Jun/2022 08:17:34] \"\u001b[37mGET / HTTP/1.1\u001b[0m\" 200 -\n",
            "127.0.0.1 - - [23/Jun/2022 08:17:35] \"\u001b[33mGET /favicon.ico HTTP/1.1\u001b[0m\" 404 -\n",
            "127.0.0.1 - - [23/Jun/2022 08:17:42] \"\u001b[37mPOST /predict HTTP/1.1\u001b[0m\" 200 -\n"
          ]
        },
        {
          "output_type": "stream",
          "name": "stdout",
          "text": [
            "2nd Stage Nagarbhavi 4.0 5.0 2000\n"
          ]
        },
        {
          "output_type": "stream",
          "name": "stderr",
          "text": [
            "127.0.0.1 - - [23/Jun/2022 09:13:10] \"\u001b[37mGET / HTTP/1.1\u001b[0m\" 200 -\n"
          ]
        }
      ]
    }
  ],
  "metadata": {
    "colab": {
      "name": "Final Flask.ipynb",
      "provenance": []
    },
    "kernelspec": {
      "display_name": "Python 3",
      "name": "python3"
    },
    "language_info": {
      "name": "python"
    }
  },
  "nbformat": 4,
  "nbformat_minor": 0
}